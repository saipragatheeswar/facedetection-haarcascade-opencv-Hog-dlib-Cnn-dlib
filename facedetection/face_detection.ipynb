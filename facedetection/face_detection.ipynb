{
 "cells": [
  {
   "cell_type": "code",
   "execution_count": 1,
   "id": "e2432158",
   "metadata": {},
   "outputs": [],
   "source": [
    "#importing libraries\n",
    "import cv2\n",
    "import dlib"
   ]
  },
  {
   "cell_type": "code",
   "execution_count": 2,
   "id": "924e7ea1",
   "metadata": {},
   "outputs": [],
   "source": [
    "#importing image and resizing\n",
    "\n",
    "image1 = cv2.imread('myimg.jpg')\n",
    "\n",
    "#detecting face based on haarcascade xml data set\n",
    "\n",
    "face_detector = cv2.CascadeClassifier('haarcascade_frontalface_default.xml')\n",
    "detections = face_detector.detectMultiScale(image1, scaleFactor=1.2, minNeighbors=7,\n",
    "                                            minSize=(20,20), maxSize=(1000,1000))\n",
    "\n",
    "for (x, y, w, h) in detections:\n",
    "    cv2.rectangle(image1, (x, y), (x + w, y + h), (0,255,0), 2)\n",
    "\n",
    "#detecting eye based on haarcascade xml data set    \n",
    "\n",
    "eye_detector = cv2.CascadeClassifier('haarcascade_eye.xml')\n",
    "eye_detections = eye_detector.detectMultiScale(image1, scaleFactor = 1.08, minNeighbors=10,minSize=(30,30), maxSize=(70,70))\n",
    "\n",
    "for (x, y, w, h) in eye_detections:\n",
    "    cv2.rectangle(image1, (x, y), (x + w, y + h), (0,0,255), 2)\n",
    "\n",
    "\n",
    "cv2.imshow('1-output',image1)\n",
    "cv2.waitKey(0)\n",
    "cv2.destroyAllWindows()\n"
   ]
  },
  {
   "cell_type": "code",
   "execution_count": 3,
   "id": "3f60c5d1",
   "metadata": {},
   "outputs": [],
   "source": [
    "#importing image and resizing\n",
    "\n",
    "image1 = cv2.imread('pic.jpg')\n",
    "image1 = cv2.resize(image1, (1000, 600))\n",
    "#detecting face based on haarcascade xml data set\n",
    "\n",
    "face_detector = cv2.CascadeClassifier('haarcascade_frontalface_default.xml')\n",
    "detections = face_detector.detectMultiScale(image1, scaleFactor=1.09, minNeighbors=7,\n",
    "                                            minSize=(10,10), maxSize=(300,300))\n",
    "for (x, y, w, h) in detections:\n",
    "    cv2.rectangle(image1, (x, y), (x + w, y + h), (0,255,0), 2)\n",
    "    \n",
    "#detecting eye based on haarcascade xml data set    \n",
    "\n",
    "eye_detector = cv2.CascadeClassifier('haarcascade_eye.xml')\n",
    "eye_detections = eye_detector.detectMultiScale(image1, scaleFactor = 1.08, minNeighbors=10, maxSize=(70,70))\n",
    "\n",
    "for (x, y, w, h) in eye_detections:\n",
    "    cv2.rectangle(image1, (x, y), (x + w, y + h), (0,0,255), 2)\n",
    "    \n",
    "    \n",
    "cv2.imshow('1-output',image1)\n",
    "cv2.waitKey(0)\n",
    "cv2.destroyAllWindows()\n"
   ]
  },
  {
   "cell_type": "code",
   "execution_count": 12,
   "id": "71236089",
   "metadata": {},
   "outputs": [],
   "source": [
    "#importing image and resizing\n",
    "\n",
    "image = cv2.imread('pic.jpg')\n",
    "image = cv2.resize(image,(1000,600))\n",
    "\n",
    "#detecting face using dlib library-->HOG\n",
    "\n",
    "face_detector_hog = dlib.get_frontal_face_detector()\n",
    "detections = face_detector_hog(image, 1)\n",
    "for face in detections:    \n",
    "    l, t, r, b = face.left(), face.top(), face.right(), face.bottom()\n",
    "    cv2.rectangle(image, (l, t), (r, b), (0, 255, 255), 2)\n",
    "cv2.imshow('op',image)\n",
    "cv2.waitKey(0)\n",
    "cv2.destroyAllWindows()"
   ]
  },
  {
   "cell_type": "code",
   "execution_count": 13,
   "id": "814d667e",
   "metadata": {},
   "outputs": [],
   "source": [
    "#importing image and resizing\n",
    "\n",
    "image = cv2.imread('pic.jpg')\n",
    "image = cv2.resize(image,(1000,600))\n",
    "\n",
    "#detecting face using dlib library-->CNN \n",
    "\n",
    "cnn_detector = dlib.cnn_face_detection_model_v1('mmod_human_face_detector.dat')\n",
    "detections = cnn_detector(image, 1)\n",
    "for face in detections:\n",
    "    l, t, r, b, c = face.rect.left(), face.rect.top(), face.rect.right(), face.rect.bottom(), face.confidence\n",
    "    cv2.rectangle(image, (l, t), (r, b), (255, 255, 0), 2)\n",
    "cv2.imshow('op',image)\n",
    "cv2.waitKey(0)\n",
    "cv2.destroyAllWindows()"
   ]
  },
  {
   "cell_type": "code",
   "execution_count": null,
   "id": "7ae2d966",
   "metadata": {},
   "outputs": [],
   "source": []
  },
  {
   "cell_type": "code",
   "execution_count": null,
   "id": "8304a5cc",
   "metadata": {},
   "outputs": [],
   "source": []
  }
 ],
 "metadata": {
  "kernelspec": {
   "display_name": "Python 3 (ipykernel)",
   "language": "python",
   "name": "python3"
  },
  "language_info": {
   "codemirror_mode": {
    "name": "ipython",
    "version": 3
   },
   "file_extension": ".py",
   "mimetype": "text/x-python",
   "name": "python",
   "nbconvert_exporter": "python",
   "pygments_lexer": "ipython3",
   "version": "3.9.13"
  }
 },
 "nbformat": 4,
 "nbformat_minor": 5
}
